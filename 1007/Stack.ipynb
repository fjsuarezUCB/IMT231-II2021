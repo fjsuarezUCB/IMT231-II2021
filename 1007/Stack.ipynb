{
 "cells": [
  {
   "cell_type": "markdown",
   "source": [
    "# Stack\r\n",
    "\r\n",
    "Implementa un protocolo Last In First Out (LIFO)\r\n",
    "\r\n",
    "![stack](./stack.png)"
   ],
   "metadata": {}
  },
  {
   "cell_type": "markdown",
   "source": [
    "a) \"Pushing\" el valor 19  \r\n",
    "b) \"Pushing\" el valor 5  \r\n",
    "c) Resultado de las operaciones anteriores  \r\n",
    "d) \"Popping\" el valor en la cima del stack (top of the stack)  "
   ],
   "metadata": {}
  },
  {
   "cell_type": "markdown",
   "source": [
    "| Método | Argumentos | Comportamiento |\r\n",
    "| -- | -- | -- |\r\n",
    "| Stack() | No tiene argumentos | Crea un stack vacío |\r\n",
    "| isEmpty() | No tiene argumentos | Retorna un booleano indicando si la estructura está vacía |\r\n",
    "| length() | No tiene argumentos | Retorna el número de elementos contenidos |\r\n",
    "| pop() | No tiene argumentos | Remueve y retorna el elemento en la cima del stack si el stack no está vacío. No se puede hacer pop en un stack vacío. Al hacer pop, el siguiente elemento sube a la cima del stack |\r\n",
    "| peek() | No tiene argumentos | Retorna una referencia al elemento en la cima del stack sin removerlo. No se puede hacer peek en un stack vacío, y no modifica los elementos contenidos |\r\n",
    "| push(e) | e: elemento | Agrega el elemento a la cima del stack |\r\n"
   ],
   "metadata": {}
  },
  {
   "cell_type": "code",
   "execution_count": 9,
   "source": [
    "lista = [1, 2, 3, 4, 5]\r\n",
    "print(lista)\r\n",
    "lista.pop()\r\n",
    "print(lista)\r\n",
    "lista[2]\r\n",
    "lista.pop(1)\r\n",
    "print(lista)"
   ],
   "outputs": [
    {
     "output_type": "stream",
     "name": "stdout",
     "text": [
      "[1, 2, 3, 4, 5]\n",
      "[1, 2, 3, 4]\n",
      "[1, 3, 4]\n"
     ]
    }
   ],
   "metadata": {}
  },
  {
   "cell_type": "code",
   "execution_count": 1,
   "source": [
    "from StackLinked import Stack"
   ],
   "outputs": [],
   "metadata": {}
  },
  {
   "cell_type": "code",
   "execution_count": 11,
   "source": [
    "s = Stack()\r\n",
    "print(s.isEmpty())"
   ],
   "outputs": [
    {
     "output_type": "stream",
     "name": "stdout",
     "text": [
      "True\n"
     ]
    }
   ],
   "metadata": {}
  },
  {
   "cell_type": "code",
   "execution_count": 24,
   "source": [
    "s.push(5)\r\n",
    "s.push(13)\r\n",
    "s.push(2)\r\n",
    "s.push(8)\r\n",
    "s.push(14)"
   ],
   "outputs": [],
   "metadata": {}
  },
  {
   "cell_type": "code",
   "execution_count": 25,
   "source": [
    "while not s.isEmpty():\r\n",
    "    print(s.pop())"
   ],
   "outputs": [
    {
     "output_type": "stream",
     "name": "stdout",
     "text": [
      "14\n",
      "8\n",
      "2\n",
      "13\n",
      "5\n"
     ]
    }
   ],
   "metadata": {}
  },
  {
   "cell_type": "markdown",
   "source": [
    "{A + (B * C) - (D / [E - F])}"
   ],
   "metadata": {}
  },
  {
   "cell_type": "code",
   "execution_count": 2,
   "source": [
    "def isValidSource(archivo):\r\n",
    "    s = Stack()\r\n",
    "    with open(archivo) as contenido:\r\n",
    "        for linea in contenido:\r\n",
    "            for caracter in linea:\r\n",
    "                if caracter in \"{[(\":\r\n",
    "                    s.push(caracter)\r\n",
    "                elif caracter in \"}])\":\r\n",
    "                    if s.isEmpty():\r\n",
    "                        return False\r\n",
    "                    else:\r\n",
    "                        ultima_apertura = s.pop()\r\n",
    "                        if (caracter == \"}\" and ultima_apertura != \"{\") or \\\r\n",
    "                            (caracter == \"]\" and ultima_apertura != \"[\") or \\\r\n",
    "                                (caracter == \")\" and ultima_apertura != \"(\"):\r\n",
    "                                return False\r\n",
    "        return s.isEmpty()\r\n"
   ],
   "outputs": [],
   "metadata": {}
  },
  {
   "cell_type": "code",
   "execution_count": 3,
   "source": [
    "isValidSource(\"sumaLista.cpp\")"
   ],
   "outputs": [
    {
     "output_type": "execute_result",
     "data": {
      "text/plain": [
       "False"
      ]
     },
     "metadata": {},
     "execution_count": 3
    }
   ],
   "metadata": {}
  },
  {
   "cell_type": "markdown",
   "source": [
    "![laberinto](./laberinto.png)"
   ],
   "metadata": {}
  },
  {
   "cell_type": "code",
   "execution_count": null,
   "source": [
    "# *******\r\n",
    "# *.....*\r\n",
    "# ***.*..\r\n",
    "# *o*.*.*\r\n",
    "# *X..***\r\n",
    "# *x*...*\r\n",
    "# *x*****"
   ],
   "outputs": [],
   "metadata": {}
  },
  {
   "cell_type": "markdown",
   "source": [
    "# Laberinto\r\n",
    "\r\n",
    "| Método | Argumentos |Comportamiento |\r\n",
    "| -- | -- | -- |\r\n",
    "| Laberinto(r, c) | r: núm. de filas, c: núm. de columnas | Crea un nuevo laberinto con todas las celdas inicializadas como abiertas. La entrada y la salida no están definidas |\r\n",
    "| numRows() | No tiene argumentos | Retorna el número de filas en el laberinto |\r\n",
    "| numCols() | No tiene argumentos | Retorna el número de columnas en el laberinto |\r\n",
    "| crearPared(r, c) | r: fila, c: columna | Rellena la posición indicada por (r, c) con una pared (*). Los índices deben estar dentro del rango válido |\r\n",
    "| setEntrada(r, c) | r: fila, c: columna | Asigna la entrada a la posición indicada por (r,c). Los índices deben estar dentro del rango válido |\r\n",
    "| setSalida(r, c) | r: fila, c: columna | Asigna la salida a la posición indicada por (r,c). Los índices deben estar dentro del rango válido |\r\n",
    "| encontrarTrayectoria() | No tiene argumentos | Intenta resolver una trayectoria empezando desde la entrada hasta encontrar la salida. Si una solución es encontrada la trayectoria es marcada con x y retorna True. Para un laberinto sin solución, retorna False y el laberinto queda en su estado original. El laberinto debe contener una entrada y un salida |\r\n",
    "| reset() | No tiene argumentos | Reinicia el laberinto a su estado original quitando cualquier marca realizada durante la operación de trayectoria |\r\n",
    "| dibujar() | No tiene argumentos | Imprime el laberinto en un formato legible usando caracteres para representar paredes y la trayectoria en el laberinto. También se indican la entrada y la salida |"
   ],
   "metadata": {}
  },
  {
   "cell_type": "markdown",
   "source": [],
   "metadata": {}
  }
 ],
 "metadata": {
  "orig_nbformat": 4,
  "language_info": {
   "name": "python",
   "version": "3.8.5",
   "mimetype": "text/x-python",
   "codemirror_mode": {
    "name": "ipython",
    "version": 3
   },
   "pygments_lexer": "ipython3",
   "nbconvert_exporter": "python",
   "file_extension": ".py"
  },
  "kernelspec": {
   "name": "python3",
   "display_name": "Python 3.8.5 64-bit ('base': conda)"
  },
  "interpreter": {
   "hash": "356a636ce2f51450019099ea7bc032334283464645747bec92c9e9fde053324a"
  }
 },
 "nbformat": 4,
 "nbformat_minor": 2
}