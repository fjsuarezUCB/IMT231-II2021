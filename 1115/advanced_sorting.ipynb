{
 "cells": [
  {
   "cell_type": "markdown",
   "metadata": {},
   "source": [
    "# Advanced Sorting\n",
    "\n",
    "## Merge Sort\n",
    "\n",
    "   I                   F\n",
    "```10 23 51 18 4 31 13 5```\n",
    "   I        F     I       F\n",
    "```10 23 51 18 || 4 31 13 5```  \n",
    "    I  F     I  F     I F     I  F\n",
    "```10 23 || 51 18 || 4 31 || 13 5```  \n",
    "\n",
    "```10 || 23 || 51 || 18 || 4 || 31 || 13 || 5```  \n",
    "  \n",
    "   I            F\n",
    "```10 23 || 18 51 || 4 31 || 5 13 ```  \n",
    "```10 18 23 51 || 4 5 13 31```  \n",
    "```4 5 10 13 18 23 31 51```  \n",
    "\n",
    "```10 23 51 4 31 13 5```  \n",
    "```10 23 51 || 4 31 13 5```  \n",
    "```10 || 23 51 || 4 31 || 13 5```  \n",
    "```10 || 23 || 51 || 4 || 31 || 13 || 5```  \n"
   ]
  },
  {
   "cell_type": "code",
   "execution_count": 2,
   "metadata": {},
   "outputs": [
    {
     "ename": "TypeError",
     "evalue": "'int' object is not subscriptable",
     "output_type": "error",
     "traceback": [
      "\u001b[1;31m---------------------------------------------------------------------------\u001b[0m",
      "\u001b[1;31mTypeError\u001b[0m                                 Traceback (most recent call last)",
      "\u001b[1;32m<ipython-input-2-6c26a7a59990>\u001b[0m in \u001b[0;36m<module>\u001b[1;34m\u001b[0m\n\u001b[0;32m      2\u001b[0m \u001b[0mlista_ordenada\u001b[0m \u001b[1;33m=\u001b[0m \u001b[1;33m[\u001b[0m\u001b[1;33m]\u001b[0m\u001b[1;33m\u001b[0m\u001b[1;33m\u001b[0m\u001b[0m\n\u001b[0;32m      3\u001b[0m \u001b[1;33m\u001b[0m\u001b[0m\n\u001b[1;32m----> 4\u001b[1;33m \u001b[0mmergeSort\u001b[0m\u001b[1;33m(\u001b[0m\u001b[0mlista\u001b[0m\u001b[1;33m,\u001b[0m \u001b[1;36m0\u001b[0m\u001b[1;33m,\u001b[0m \u001b[0mlen\u001b[0m\u001b[1;33m(\u001b[0m\u001b[0mlista\u001b[0m\u001b[1;33m)\u001b[0m \u001b[1;33m-\u001b[0m \u001b[1;36m1\u001b[0m\u001b[1;33m,\u001b[0m \u001b[0mlista_ordenada\u001b[0m\u001b[1;33m)\u001b[0m\u001b[1;33m\u001b[0m\u001b[1;33m\u001b[0m\u001b[0m\n\u001b[0m",
      "\u001b[1;32m<ipython-input-1-1eb22a778d72>\u001b[0m in \u001b[0;36mmergeSort\u001b[1;34m(coleccion, inicio, fin, array_tmp)\u001b[0m\n\u001b[0;32m     36\u001b[0m         \u001b[0mmedio\u001b[0m \u001b[1;33m=\u001b[0m \u001b[1;33m(\u001b[0m\u001b[0minicio\u001b[0m \u001b[1;33m+\u001b[0m \u001b[0mfin\u001b[0m\u001b[1;33m)\u001b[0m \u001b[1;33m//\u001b[0m \u001b[1;36m2\u001b[0m\u001b[1;33m\u001b[0m\u001b[1;33m\u001b[0m\u001b[0m\n\u001b[0;32m     37\u001b[0m \u001b[1;33m\u001b[0m\u001b[0m\n\u001b[1;32m---> 38\u001b[1;33m         \u001b[0mmergeSort\u001b[0m\u001b[1;33m(\u001b[0m\u001b[0mcoleccion\u001b[0m\u001b[1;33m,\u001b[0m \u001b[0minicio\u001b[0m\u001b[1;33m,\u001b[0m \u001b[0mmedio\u001b[0m\u001b[1;33m,\u001b[0m \u001b[0marray_tmp\u001b[0m\u001b[1;33m)\u001b[0m\u001b[1;33m\u001b[0m\u001b[1;33m\u001b[0m\u001b[0m\n\u001b[0m\u001b[0;32m     39\u001b[0m         \u001b[0mmergeSort\u001b[0m\u001b[1;33m(\u001b[0m\u001b[0mcoleccion\u001b[0m\u001b[1;33m,\u001b[0m \u001b[0mmedio\u001b[0m \u001b[1;33m+\u001b[0m \u001b[1;36m1\u001b[0m\u001b[1;33m,\u001b[0m \u001b[0mfin\u001b[0m\u001b[1;33m,\u001b[0m \u001b[0marray_tmp\u001b[0m\u001b[1;33m)\u001b[0m\u001b[1;33m\u001b[0m\u001b[1;33m\u001b[0m\u001b[0m\n\u001b[0;32m     40\u001b[0m \u001b[1;33m\u001b[0m\u001b[0m\n",
      "\u001b[1;32m<ipython-input-1-1eb22a778d72>\u001b[0m in \u001b[0;36mmergeSort\u001b[1;34m(coleccion, inicio, fin, array_tmp)\u001b[0m\n\u001b[0;32m     36\u001b[0m         \u001b[0mmedio\u001b[0m \u001b[1;33m=\u001b[0m \u001b[1;33m(\u001b[0m\u001b[0minicio\u001b[0m \u001b[1;33m+\u001b[0m \u001b[0mfin\u001b[0m\u001b[1;33m)\u001b[0m \u001b[1;33m//\u001b[0m \u001b[1;36m2\u001b[0m\u001b[1;33m\u001b[0m\u001b[1;33m\u001b[0m\u001b[0m\n\u001b[0;32m     37\u001b[0m \u001b[1;33m\u001b[0m\u001b[0m\n\u001b[1;32m---> 38\u001b[1;33m         \u001b[0mmergeSort\u001b[0m\u001b[1;33m(\u001b[0m\u001b[0mcoleccion\u001b[0m\u001b[1;33m,\u001b[0m \u001b[0minicio\u001b[0m\u001b[1;33m,\u001b[0m \u001b[0mmedio\u001b[0m\u001b[1;33m,\u001b[0m \u001b[0marray_tmp\u001b[0m\u001b[1;33m)\u001b[0m\u001b[1;33m\u001b[0m\u001b[1;33m\u001b[0m\u001b[0m\n\u001b[0m\u001b[0;32m     39\u001b[0m         \u001b[0mmergeSort\u001b[0m\u001b[1;33m(\u001b[0m\u001b[0mcoleccion\u001b[0m\u001b[1;33m,\u001b[0m \u001b[0mmedio\u001b[0m \u001b[1;33m+\u001b[0m \u001b[1;36m1\u001b[0m\u001b[1;33m,\u001b[0m \u001b[0mfin\u001b[0m\u001b[1;33m,\u001b[0m \u001b[0marray_tmp\u001b[0m\u001b[1;33m)\u001b[0m\u001b[1;33m\u001b[0m\u001b[1;33m\u001b[0m\u001b[0m\n\u001b[0;32m     40\u001b[0m \u001b[1;33m\u001b[0m\u001b[0m\n",
      "\u001b[1;32m<ipython-input-1-1eb22a778d72>\u001b[0m in \u001b[0;36mmergeSort\u001b[1;34m(coleccion, inicio, fin, array_tmp)\u001b[0m\n\u001b[0;32m     39\u001b[0m         \u001b[0mmergeSort\u001b[0m\u001b[1;33m(\u001b[0m\u001b[0mcoleccion\u001b[0m\u001b[1;33m,\u001b[0m \u001b[0mmedio\u001b[0m \u001b[1;33m+\u001b[0m \u001b[1;36m1\u001b[0m\u001b[1;33m,\u001b[0m \u001b[0mfin\u001b[0m\u001b[1;33m,\u001b[0m \u001b[0marray_tmp\u001b[0m\u001b[1;33m)\u001b[0m\u001b[1;33m\u001b[0m\u001b[1;33m\u001b[0m\u001b[0m\n\u001b[0;32m     40\u001b[0m \u001b[1;33m\u001b[0m\u001b[0m\n\u001b[1;32m---> 41\u001b[1;33m         \u001b[0munirSubgruposOrdenados\u001b[0m\u001b[1;33m(\u001b[0m\u001b[0mcoleccion\u001b[0m\u001b[1;33m,\u001b[0m \u001b[0minicio\u001b[0m\u001b[1;33m,\u001b[0m \u001b[0mmedio\u001b[0m \u001b[1;33m+\u001b[0m \u001b[1;36m1\u001b[0m\u001b[1;33m,\u001b[0m \u001b[0mfin\u001b[0m\u001b[1;33m,\u001b[0m \u001b[0marray_tmp\u001b[0m\u001b[1;33m)\u001b[0m\u001b[1;33m\u001b[0m\u001b[1;33m\u001b[0m\u001b[0m\n\u001b[0m\u001b[0;32m     42\u001b[0m \u001b[1;33m\u001b[0m\u001b[0m\n",
      "\u001b[1;32m<ipython-input-1-1eb22a778d72>\u001b[0m in \u001b[0;36munirSubgruposOrdenados\u001b[1;34m(coleccion, izquierda, derecha, fin, array_tmp)\u001b[0m\n\u001b[0;32m     25\u001b[0m \u001b[1;33m\u001b[0m\u001b[0m\n\u001b[0;32m     26\u001b[0m     \u001b[1;32mfor\u001b[0m \u001b[0mi\u001b[0m \u001b[1;32min\u001b[0m \u001b[0mrange\u001b[0m\u001b[1;33m(\u001b[0m\u001b[0mfin\u001b[0m \u001b[1;33m-\u001b[0m \u001b[0mizquierda\u001b[0m\u001b[1;33m)\u001b[0m\u001b[1;33m:\u001b[0m\u001b[1;33m\u001b[0m\u001b[1;33m\u001b[0m\u001b[0m\n\u001b[1;32m---> 27\u001b[1;33m         \u001b[0mcoleccion\u001b[0m\u001b[1;33m[\u001b[0m\u001b[0mizquierda\u001b[0m \u001b[1;33m+\u001b[0m \u001b[0mi\u001b[0m\u001b[1;33m]\u001b[0m \u001b[1;33m=\u001b[0m \u001b[0marray_tmp\u001b[0m\u001b[1;33m[\u001b[0m\u001b[0mi\u001b[0m\u001b[1;33m]\u001b[0m\u001b[1;33m\u001b[0m\u001b[1;33m\u001b[0m\u001b[0m\n\u001b[0m\u001b[0;32m     28\u001b[0m \u001b[1;33m\u001b[0m\u001b[0m\n\u001b[0;32m     29\u001b[0m \u001b[1;32mdef\u001b[0m \u001b[0mmergeSort\u001b[0m\u001b[1;33m(\u001b[0m\u001b[0mcoleccion\u001b[0m\u001b[1;33m,\u001b[0m \u001b[0minicio\u001b[0m\u001b[1;33m,\u001b[0m \u001b[0mfin\u001b[0m\u001b[1;33m,\u001b[0m \u001b[0marray_tmp\u001b[0m\u001b[1;33m)\u001b[0m\u001b[1;33m:\u001b[0m\u001b[1;33m\u001b[0m\u001b[1;33m\u001b[0m\u001b[0m\n",
      "\u001b[1;31mTypeError\u001b[0m: 'int' object is not subscriptable"
     ]
    }
   ],
   "source": [
    "lista = [10, 23, 51, 18, 4, 31, 13, 5]\n",
    "lista_ordenada = []\n",
    "\n",
    "mergeSort(lista, 0, len(lista) - 1, lista_ordenada)"
   ]
  },
  {
   "cell_type": "code",
   "execution_count": 1,
   "metadata": {},
   "outputs": [],
   "source": [
    "def unirSubgruposOrdenados(coleccion, izquierda, derecha, fin, array_tmp):\n",
    "    a = izquierda\n",
    "    b = derecha\n",
    "\n",
    "    m = 0\n",
    "\n",
    "    while a < derecha and b < fin:\n",
    "        if coleccion[a] < coleccion[b]:\n",
    "            array_tmp[m] = coleccion[a]\n",
    "            a += 1\n",
    "        else:\n",
    "            array_tmp[m] = coleccion[b]\n",
    "            b += 1\n",
    "        m += 1\n",
    "\n",
    "    while a < derecha:\n",
    "        array_tmp = coleccion[a]\n",
    "        a += 1\n",
    "        m += 1\n",
    "\n",
    "    while b < fin:\n",
    "        array_tmp[m] = coleccion[b]\n",
    "        b += 1\n",
    "        m += 1\n",
    "\n",
    "    for i in range(fin - izquierda):\n",
    "        coleccion[izquierda + i] = array_tmp[i]\n",
    "\n",
    "def mergeSort(coleccion, inicio, fin, array_tmp):\n",
    "    # caso base\n",
    "    if inicio == fin:\n",
    "        return\n",
    "\n",
    "    # caso recursivo\n",
    "    else:\n",
    "        medio = (inicio + fin) // 2\n",
    "\n",
    "        mergeSort(coleccion, inicio, medio, array_tmp)\n",
    "        mergeSort(coleccion, medio + 1, fin, array_tmp)\n",
    "\n",
    "        unirSubgruposOrdenados(coleccion, inicio, medio + 1, fin, array_tmp)\n",
    "\n"
   ]
  }
 ],
 "metadata": {
  "interpreter": {
   "hash": "356a636ce2f51450019099ea7bc032334283464645747bec92c9e9fde053324a"
  },
  "kernelspec": {
   "display_name": "Python 3.8.5 64-bit ('base': conda)",
   "language": "python",
   "name": "python3"
  },
  "language_info": {
   "codemirror_mode": {
    "name": "ipython",
    "version": 3
   },
   "file_extension": ".py",
   "mimetype": "text/x-python",
   "name": "python",
   "nbconvert_exporter": "python",
   "pygments_lexer": "ipython3",
   "version": "3.8.5"
  },
  "orig_nbformat": 4
 },
 "nbformat": 4,
 "nbformat_minor": 2
}
